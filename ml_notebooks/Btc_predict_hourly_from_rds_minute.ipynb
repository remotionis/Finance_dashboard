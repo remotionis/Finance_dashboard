{
 "nbformat": 4,
 "nbformat_minor": 0,
 "metadata": {
  "colab": {
   "provenance": []
  },
  "kernelspec": {
   "name": "python3",
   "display_name": "Python 3"
  },
  "language_info": {
   "name": "python"
  }
 },
 "cells": [
  {
   "metadata": {
    "tags": [
     "parameters"
    ]
   },
   "cell_type": "code",
   "outputs": [],
   "execution_count": null,
   "source": [
    "AWS_ACCESS_KEY_ID = None\n",
    "AWS_SECRET_ACCESS_KEY = None\n",
    "EC2_PUBLIC_IP = None\n",
    "SNOWFLAKE_ACCOUNT = None\n",
    "SNOWFLAKE_DATABASE = None\n",
    "SNOWFLAKE_PASSWORD = None\n",
    "SNOWFLAKE_SCHEMA = None\n",
    "SNOWFLAKE_USER = None\n",
    "SNOWFLAKE_WAREHOUSE = None\n",
    "target_date = None\n",
    "ref_time_str = None"
   ]
  },
  {
   "metadata": {},
   "cell_type": "code",
   "outputs": [],
   "execution_count": null,
   "source": [
    "import pandas as pd\n",
    "import numpy as np\n",
    "import boto3\n",
    "import psycopg2\n",
    "import snowflake.connector\n",
    "from datetime import datetime, timedelta\n",
    "import botocore.exceptions\n",
    "import lightgbm as lgb\n",
    "import json\n",
    "from snowflake.connector.pandas_tools import write_pandas\n",
    "import requests"
   ]
  },
  {
   "cell_type": "code",
   "source": [
    "aws_access_key_id = AWS_ACCESS_KEY_ID\n",
    "aws_secret_access_key = AWS_SECRET_ACCESS_KEY\n",
    "\n",
    "s3_client = boto3.client(\n",
    "    's3',\n",
    "    aws_access_key_id=aws_access_key_id,\n",
    "    aws_secret_access_key=aws_secret_access_key,\n",
    "    region_name='us-east-1'\n",
    ")\n",
    "\n",
    "bucket_name = \"de6-team7-bucket\""
   ],
   "metadata": {
    "id": "2QL2lShc9xcY"
   },
   "execution_count": null,
   "outputs": []
  },
  {
   "cell_type": "code",
   "source": [
    "def try_convert(s, fmt=\"%Y-%m-%d %H:%M:%S\"):\n",
    "    try:\n",
    "        dt = pd.to_datetime(s, errors='raise')  # 실패하면 예외 발생\n",
    "        return dt.strftime(fmt)\n",
    "    except:\n",
    "        return pd.DataFrame()\n",
    "\n",
    "def load_recent_minute_data() -> pd.DataFrame:\n",
    "    # ref_time 기준 60분 전부터 조회되도록 쿼리\n",
    "    url = f\"http://\" + EC2_PUBLIC_IP + \":8080/query\"\n",
    "\n",
    "    ref_time = datetime.strptime(ref_time_str, \"%H:%M\")\n",
    "    start_time = (ref_time - timedelta(hours=1)).strftime(\"%H:%M\")\n",
    "    end_time = ref_time.strftime(\"%H:%M\")\n",
    "    query = {\n",
    "        \"sql\": f\"\"\"\n",
    "            SELECT *\n",
    "            FROM raw_data.btc_derived_minute\n",
    "            WHERE trade_time_min >= '{start_time}'\n",
    "              AND trade_time_min < '{end_time}'\n",
    "            ORDER BY trade_time_min\n",
    "        \"\"\"\n",
    "    }\n",
    "\n",
    "    response = requests.post(url, json=query)\n",
    "    data = response.json()\n",
    "\n",
    "    df = pd.DataFrame(data, columns=['trade_dt', 'trade_time_min', 'market', 'open_price', 'close_price', 'high_price', 'low_price', 'avg_price', 'cum_volume', 'cum_amount', 'ma_short', 'ma_mid', 'ma_long', 'bollinger_upper', 'bollinger_lower', 'bollinger_middle', 'rsi', 'macd', 'macd_signal', 'macd_histogram', 'obv', 'trading_strength_avg', 'buy_volume', 'sell_volume', 'spread', 'depth_imbalance'])\n",
    "    df = df[['trade_time_min', 'market', 'avg_price', 'cum_volume', 'spread', 'ma_mid', 'bollinger_upper', 'bollinger_lower', 'rsi', 'obv', 'macd_histogram', 'trading_strength_avg', 'depth_imbalance']]\n",
    "    df['trade_time_min'] = target_date + \" \" + df['trade_time_min'].astype(str)\n",
    "    df['trade_time_min'] = df.apply(lambda row: try_convert(row['trade_time_min']), axis=1)\n",
    "    #df.rename(columns={'trade_time_min': 'prediction_time'}, inplace=True)\n",
    "\n",
    "    return df"
   ],
   "metadata": {
    "id": "8ynBfLlz_I4G"
   },
   "execution_count": null,
   "outputs": []
  },
  {
   "cell_type": "code",
   "source": [
    "def make_feature(df):\n",
    "    try:\n",
    "        if df.empty:\n",
    "            print(\"Empty dataframe\")\n",
    "            return\n",
    "        df.sort_values(by=['trade_time_min', 'market'], inplace=True)\n",
    "        df['market'] = df['market'].astype('category')\n",
    "        df['bollinger_width'] = df['bollinger_upper'] - df['bollinger_lower']\n",
    "        df.drop(columns=['bollinger_upper', 'bollinger_lower'], axis=1, inplace=True)\n",
    "        return df\n",
    "    except Exception as e:\n",
    "        print(e)\n",
    "        return pd.DataFrame()"
   ],
   "metadata": {
    "id": "UzGx8pfZj1-L"
   },
   "execution_count": null,
   "outputs": []
  },
  {
   "cell_type": "code",
   "source": [
    "def check_booster_exists(bucket_name: str, s3_key: str) -> bool:\n",
    "    try:\n",
    "        s3_client.head_object(Bucket=bucket_name, Key=s3_key)\n",
    "        return True  # 파일이 존재함\n",
    "    except botocore.exceptions.ClientError as e:\n",
    "        if e.response['Error']['Code'] == '404':\n",
    "            return False  # 파일이 존재하지 않음\n",
    "        else:\n",
    "            raise  # 다른 예외는 그대로 raise"
   ],
   "metadata": {
    "id": "SPXXUitU6W6H"
   },
   "execution_count": null,
   "outputs": []
  },
  {
   "cell_type": "code",
   "source": [
    "def load_booster(model_type='clf'):\n",
    "    try:\n",
    "        model_path = \"/tmp/\"\n",
    "        if model_type == 'reg':\n",
    "            booster_name = \"btc_reg_booster.txt\"\n",
    "            params_name = \"btc_reg_params.json\"\n",
    "        else:\n",
    "            booster_name = \"btc_clf_booster.txt\"\n",
    "            params_name = \"btc_clf_params.json\"\n",
    "\n",
    "        s3_booster_key = f'models/{booster_name}'\n",
    "        s3_params_key = f'models/{params_name}'\n",
    "\n",
    "        if check_booster_exists(bucket_name, s3_booster_key):\n",
    "            s3_client.download_file(bucket_name, s3_booster_key, model_path+booster_name)  # booster download\n",
    "            s3_client.download_file(bucket_name, s3_params_key, model_path+params_name)  # params download\n",
    "            booster = lgb.Booster(model_file=model_path+booster_name)\n",
    "            with open(model_path+params_name, 'r') as f:\n",
    "                params = json.load(f)\n",
    "        else:\n",
    "            raise\n",
    "        return booster, params\n",
    "    except Exception as e:\n",
    "        raise"
   ],
   "metadata": {
    "id": "O3cTg0nQj17g"
   },
   "execution_count": null,
   "outputs": []
  },
  {
   "cell_type": "code",
   "source": [
    "def predict_and_save(df):\n",
    "    if df.empty:\n",
    "        print(\"Empty dataframe\")\n",
    "        return\n",
    "    feature_cols = df.columns.difference(['trade_time_min'])\n",
    "\n",
    "    clf_booster, clf_params = load_booster()\n",
    "    reg_booster, reg_params = load_booster('reg')\n",
    "\n",
    "    pred_price = reg_booster.predict(df[feature_cols])\n",
    "    pred_up = clf_booster.predict(df[feature_cols])\n",
    "    pred_up = np.argmax(pred_up, axis=1)\n",
    "    df['future_avg_price'] = pred_price\n",
    "    df['target_direction'] = pred_up\n",
    "    df['future_return'] = (df['future_avg_price'] - df['avg_price']) / df['avg_price']\n",
    "\n",
    "    upload_to_snowflake(df, \"BTC_PREDICTION_TABLE\", target_date)\n",
    "    return"
   ],
   "metadata": {
    "id": "11BJXVI_j145"
   },
   "execution_count": null,
   "outputs": []
  },
  {
   "cell_type": "code",
   "source": [
    "# Snowflake 연결\n",
    "def snowflake_connection():\n",
    "    return snowflake.connector.connect(\n",
    "        user=SNOWFLAKE_USER,\n",
    "        password=SNOWFLAKE_PASSWORD,\n",
    "        account=SNOWFLAKE_ACCOUNT,\n",
    "        warehouse=SNOWFLAKE_WAREHOUSE,\n",
    "        database=SNOWFLAKE_DATABASE,\n",
    "        schema=SNOWFLAKE_SCHEMA\n",
    "    )\n",
    "\n",
    "\n",
    "# Snowflake 업로드\n",
    "def upload_to_snowflake(df, table_name, target_dt):\n",
    "    if df.empty:\n",
    "        print(\"업로드할 데이터 없음\")\n",
    "        return\n",
    "    df.columns = [col.strip().upper().replace(' ', '_') for col in df.columns]\n",
    "\n",
    "    conn = None\n",
    "    try:\n",
    "        print(f\"\\n--- Snowflake에 결과 적재 시작 ---\")\n",
    "        print(f\"대상 테이블: {table_name}\")\n",
    "        conn = snowflake_connection()\n",
    "        if conn:\n",
    "            cursor = conn.cursor()\n",
    "\n",
    "            # DataFrame 적재\n",
    "            print(f\"\\n--- DataFrame을 본 테이블로 직접 적재 ---\")\n",
    "            write_pandas(conn=conn, df=df, table_name=table_name.upper(), auto_create_table=False, overwrite=False)\n",
    "            print(f\"✅ Snowflake 테이블 적재 성공: {df.shape[0]} 행\")\n",
    "\n",
    "            cursor.close()\n",
    "        else:\n",
    "            print(\"🚨 Snowflake 연결 실패, 업로드를 건너뜁니다.\")\n",
    "    except Exception as e:\n",
    "        print(f\"🚨 Snowflake 적재 오류: {e}\")\n",
    "    finally:\n",
    "        if conn is not None:\n",
    "            conn.close()"
   ],
   "metadata": {
    "id": "y69DFqUuwU6G"
   },
   "execution_count": null,
   "outputs": []
  },
  {
   "cell_type": "code",
   "source": [
    "if __name__ == \"__main__\":\n",
    "    df = load_recent_minute_data()\n",
    "    df = make_feature(df)\n",
    "    predict_and_save(df)"
   ],
   "metadata": {
    "id": "p1sPIO7Jj1zj",
    "colab": {
     "base_uri": "https://localhost:8080/"
    },
    "outputId": "cd91a8b6-c7a2-4377-f995-d97d9b7b414e"
   },
   "execution_count": null,
   "outputs": [
    {
     "output_type": "stream",
     "name": "stdout",
     "text": [
      "\n",
      "--- Snowflake에 결과 적재 시작 ---\n",
      "대상 테이블: BTC_PREDICTION_TABLE\n",
      "\n",
      "--- DataFrame을 본 테이블로 직접 적재 ---\n"
     ]
    },
    {
     "output_type": "stream",
     "name": "stderr",
     "text": [
      "/tmp/ipython-input-11-1941115737.py:30: UserWarning: Pandas Dataframe has non-standard index of type <class 'pandas.core.indexes.base.Index'> which will not be written. Consider changing the index to pd.RangeIndex(start=0,...,step=1) or call reset_index() to keep index as column(s)\n",
      "  write_pandas(conn=conn, df=df, table_name=table_name.upper(), auto_create_table=False, overwrite=False)\n"
     ]
    },
    {
     "output_type": "stream",
     "name": "stdout",
     "text": [
      "✅ Snowflake 테이블 적재 성공: 7579 행\n"
     ]
    }
   ]
  }
 ]
}
