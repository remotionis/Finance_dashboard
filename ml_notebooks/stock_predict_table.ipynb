{
 "nbformat": 4,
 "nbformat_minor": 0,
 "metadata": {
  "colab": {
   "provenance": [],
   "authorship_tag": "ABX9TyNGE314a1IATsFWTATzfHcf"
  },
  "kernelspec": {
   "name": "python3",
   "display_name": "Python 3"
  },
  "language_info": {
   "name": "python"
  }
 },
 "cells": [
  {
   "cell_type": "code",
   "execution_count": 256,
   "metadata": {
    "id": "cFF251R4QxFn",
    "executionInfo": {
     "status": "ok",
     "timestamp": 1753508970882,
     "user_tz": -540,
     "elapsed": 17,
     "user": {
      "displayName": "gyungbo kim",
      "userId": "10164639575684253223"
     }
    },
    "tags": [
     "parameters"
    ]
   },
   "outputs": [],
   "source": [
    "AWS_ACCESS_KEY_ID = None\n",
    "AWS_SECRET_ACCESS_KEY = None\n",
    "EC2_PUBLIC_IP = None\n",
    "SNOWFLAKE_ACCOUNT = None\n",
    "SNOWFLAKE_DATABASE = None\n",
    "SNOWFLAKE_PASSWORD = None\n",
    "SNOWFLAKE_SCHEMA = None\n",
    "SNOWFLAKE_USER = None\n",
    "SNOWFLAKE_WAREHOUSE = None\n",
    "target_date = None\n",
    "ref_time_str = None"
   ]
  },
  {
   "cell_type": "code",
   "source": [
    "import pandas as pd\n",
    "import numpy as np\n",
    "import boto3\n",
    "import psycopg2\n",
    "import snowflake.connector\n",
    "from datetime import datetime, timedelta\n",
    "import botocore.exceptions\n",
    "import lightgbm as lgb\n",
    "import json\n",
    "from snowflake.connector.pandas_tools import write_pandas\n",
    "import requests"
   ],
   "metadata": {
    "id": "-gUA-pseUw9q",
    "executionInfo": {
     "status": "ok",
     "timestamp": 1753508987335,
     "user_tz": -540,
     "elapsed": 30,
     "user": {
      "displayName": "gyungbo kim",
      "userId": "10164639575684253223"
     }
    }
   },
   "execution_count": 259,
   "outputs": []
  },
  {
   "cell_type": "code",
   "source": [
    "aws_access_key_id = AWS_ACCESS_KEY_ID\n",
    "aws_secret_access_key = AWS_SECRET_ACCESS_KEY\n",
    "\n",
    "s3_client = boto3.client(\n",
    "    's3',\n",
    "    aws_access_key_id=aws_access_key_id,\n",
    "    aws_secret_access_key=aws_secret_access_key,\n",
    "    region_name='us-east-1'\n",
    ")\n",
    "\n",
    "bucket_name = \"de6-team7-bucket\""
   ],
   "metadata": {
    "id": "2oXaoQmOUyty",
    "executionInfo": {
     "status": "ok",
     "timestamp": 1753508988408,
     "user_tz": -540,
     "elapsed": 1071,
     "user": {
      "displayName": "gyungbo kim",
      "userId": "10164639575684253223"
     }
    }
   },
   "execution_count": 260,
   "outputs": []
  },
  {
   "cell_type": "code",
   "source": [
    "def try_convert(s, fmt=\"%Y-%m-%d %H:%M:%S\"):\n",
    "    try:\n",
    "        dt = pd.to_datetime(s, errors='raise')\n",
    "        return dt.strftime(fmt)\n",
    "    except (ValueError, TypeError):\n",
    "        return None"
   ],
   "metadata": {
    "id": "bPMg23_5KXjU",
    "executionInfo": {
     "status": "ok",
     "timestamp": 1753508988409,
     "user_tz": -540,
     "elapsed": 3,
     "user": {
      "displayName": "gyungbo kim",
      "userId": "10164639575684253223"
     }
    }
   },
   "execution_count": 261,
   "outputs": []
  },
  {
   "cell_type": "code",
   "metadata": {
    "id": "20c3b672",
    "executionInfo": {
     "status": "ok",
     "timestamp": 1753509497668,
     "user_tz": -540,
     "elapsed": 9,
     "user": {
      "displayName": "gyungbo kim",
      "userId": "10164639575684253223"
     }
    }
   },
   "source": [
    "def load_hourly_data(target_date: str, ref_time_str: str) -> pd.DataFrame:\n",
    "    url = f\"http://\" + EC2_PUBLIC_IP + \":8080/query\"\n",
    "\n",
    "    ref_time = datetime.strptime(ref_time_str, \"%H:%M\")\n",
    "    start_time = (ref_time - timedelta(hours=1)).strftime(\"%H:%M\")\n",
    "    end_time = ref_time.strftime(\"%H:%M\")\n",
    "\n",
    "    start_datetime_utc = f\"{target_date} {start_time}\"\n",
    "    end_datetime_utc = f\"{target_date} {end_time}\"\n",
    "\n",
    "    query = {\n",
    "        \"sql\": f\"\"\"\n",
    "            SELECT\n",
    "                timestamp_ms, stock_code, open_price, high_price, low_price,\n",
    "                close_price, cum_volume, cum_amount, (ask_price_1 - bid_price_1) as spread,\n",
    "                prev_close_price\n",
    "            FROM raw_data.stock_raw_info\n",
    "            WHERE\n",
    "                TO_TIMESTAMP(timestamp_ms) >= TO_TIMESTAMP('{start_datetime_utc}', 'YYYY-MM-DD HH24:MI')\n",
    "                AND TO_TIMESTAMP(timestamp_ms) < TO_TIMESTAMP('{end_datetime_utc}', 'YYYY-MM-DD HH24:MI')\n",
    "            ORDER BY timestamp_ms\n",
    "        \"\"\"\n",
    "    }\n",
    "\n",
    "    try:\n",
    "        response = requests.post(url, json=query)\n",
    "        response.raise_for_status()\n",
    "        data = response.json()\n",
    "    except Exception as e:\n",
    "        print(f\"🚨 API 요청 또는 JSON 변환 중 오류 발생: {e}\")\n",
    "        return pd.DataFrame()\n",
    "\n",
    "    if not data:\n",
    "        print(f\"✅ API는 정상 응답했으나, '{start_datetime_utc}' ~ '{end_datetime_utc}' (UTC) 사이의 데이터가 없습니다.\")\n",
    "        return pd.DataFrame()\n",
    "\n",
    "    column_names = [\n",
    "        'timestamp_ms', 'stock_code', 'open_price', 'high_price', 'low_price',\n",
    "        'close_price', 'cum_volume', 'cum_amount', 'spread', 'prev_close_price'\n",
    "    ]\n",
    "\n",
    "    df = pd.DataFrame(data, columns=column_names)\n",
    "\n",
    "    df['prediction_time'] = pd.to_datetime(df['timestamp_ms'], unit='s')\n",
    "\n",
    "    agg_logic = {\n",
    "        'open_price': 'first', 'high_price': 'max', 'low_price': 'min',\n",
    "        'close_price': 'last', 'cum_volume': 'last', 'cum_amount': 'last',\n",
    "        'spread': 'mean'\n",
    "    }\n",
    "\n",
    "    hourly_df = df.set_index('prediction_time').groupby('stock_code').resample('1h').agg(agg_logic)\n",
    "    hourly_df.reset_index(inplace=True)\n",
    "\n",
    "    hourly_df['vwap_price'] = hourly_df['cum_amount'] / hourly_df['cum_volume'].replace(0, np.nan)\n",
    "    hourly_df.dropna(subset=['vwap_price'], inplace=True)\n",
    "\n",
    "    prev_close_map = df.groupby('stock_code')['prev_close_price'].first()\n",
    "    hourly_df['prev_close_price'] = hourly_df['stock_code'].map(prev_close_map)\n",
    "    hourly_df['change_rate'] = (hourly_df['close_price'] / hourly_df['prev_close_price'] - 1) * 100\n",
    "\n",
    "    final_cols = [\n",
    "        'prediction_time', 'stock_code', 'open_price', 'high_price', 'low_price',\n",
    "        'close_price', 'cum_volume', 'cum_amount', 'vwap_price', 'change_rate', 'spread'\n",
    "    ]\n",
    "\n",
    "    return hourly_df[final_cols]"
   ],
   "execution_count": 285,
   "outputs": []
  },
  {
   "cell_type": "code",
   "source": [
    "def make_feature(df):\n",
    "    try:\n",
    "        df.sort_values(by=['prediction_time', 'stock_code'], inplace=True)\n",
    "        df['stock_code'] = df['stock_code'].astype('category')\n",
    "        if df.empty:\n",
    "            print(\"Empty dataframe\")\n",
    "            return\n",
    "        return df\n",
    "    except Exception as e:\n",
    "        print(e)\n",
    "        return pd.DataFrame()"
   ],
   "metadata": {
    "id": "ZMckiPONZjHp",
    "executionInfo": {
     "status": "ok",
     "timestamp": 1753508988461,
     "user_tz": -540,
     "elapsed": 1,
     "user": {
      "displayName": "gyungbo kim",
      "userId": "10164639575684253223"
     }
    }
   },
   "execution_count": 263,
   "outputs": []
  },
  {
   "cell_type": "code",
   "source": [
    "def check_booster_exists(bucket_name: str, s3_key: str) -> bool:\n",
    "    try:\n",
    "        s3_client.head_object(Bucket=bucket_name, Key=s3_key)\n",
    "        return True\n",
    "    except botocore.exceptions.ClientError as e:\n",
    "        if e.response['Error']['Code'] == '404':\n",
    "            return False\n",
    "        else:\n",
    "            raise"
   ],
   "metadata": {
    "id": "0c89K9sLZomE",
    "executionInfo": {
     "status": "ok",
     "timestamp": 1753508988463,
     "user_tz": -540,
     "elapsed": 1,
     "user": {
      "displayName": "gyungbo kim",
      "userId": "10164639575684253223"
     }
    }
   },
   "execution_count": 264,
   "outputs": []
  },
  {
   "cell_type": "code",
   "source": [
    "def load_booster(model_type='clf'):\n",
    "    try:\n",
    "        colab_model_path = \"/tmp/\"\n",
    "        if model_type == 'reg':\n",
    "            booster_name = \"stock_reg_booster.txt\"\n",
    "            params_name = \"stock_reg_params.json\"\n",
    "        else:\n",
    "            booster_name = \"stock_clf_booster.txt\"\n",
    "            params_name = \"stock_clf_params.json\"\n",
    "\n",
    "        s3_booster_key = f'models/stock/{booster_name}'\n",
    "        s3_params_key = f'models/stock/{params_name}'\n",
    "\n",
    "        if check_booster_exists(bucket_name, s3_booster_key):\n",
    "            s3_client.download_file(bucket_name, s3_booster_key, colab_model_path+booster_name)  # booster download\n",
    "            s3_client.download_file(bucket_name, s3_params_key, colab_model_path+params_name)  # params download\n",
    "            booster = lgb.Booster(model_file=colab_model_path+booster_name)\n",
    "            with open(colab_model_path+params_name, 'r') as f:\n",
    "                params = json.load(f)\n",
    "        else:\n",
    "            raise\n",
    "        return booster, params\n",
    "    except Exception as e:\n",
    "        raise"
   ],
   "metadata": {
    "id": "xilEdyjvZrjS",
    "executionInfo": {
     "status": "ok",
     "timestamp": 1753508988465,
     "user_tz": -540,
     "elapsed": 1,
     "user": {
      "displayName": "gyungbo kim",
      "userId": "10164639575684253223"
     }
    }
   },
   "execution_count": 265,
   "outputs": []
  },
  {
   "cell_type": "code",
   "source": [
    "def predict_and_save(df):\n",
    "    if df.empty:\n",
    "        print(\"데이터프레임이 비어있어 예측을 건너뜁니다.\")\n",
    "        return\n",
    "\n",
    "    feature_cols = df.columns.difference(['prediction_time'])\n",
    "\n",
    "    clf_booster, clf_params = load_booster()\n",
    "    reg_booster, reg_params = load_booster('reg')\n",
    "\n",
    "    pred_price = reg_booster.predict(df[feature_cols])\n",
    "    pred_up = clf_booster.predict(df[feature_cols])\n",
    "    pred_up = np.argmax(pred_up, axis=1)\n",
    "    df['future_avg_price'] = pred_price\n",
    "    df['target_direction'] = pred_up\n",
    "    df['future_return'] = (df['future_avg_price'] - df['close_price']) / df['close_price']\n",
    "\n",
    "    df = df[['prediction_time', 'stock_code', 'open_price', 'high_price', 'low_price', 'close_price', 'cum_volume', 'cum_amount', 'vwap_price', 'change_rate', 'spread', 'future_avg_price', 'future_return', 'target_direction']]\n",
    "\n",
    "    upload_to_snowflake(df, \"STOCK_PREDICTION_TABLE\", target_date)\n",
    "    return"
   ],
   "metadata": {
    "id": "0LpxdAw0abzg",
    "executionInfo": {
     "status": "ok",
     "timestamp": 1753508988476,
     "user_tz": -540,
     "elapsed": 10,
     "user": {
      "displayName": "gyungbo kim",
      "userId": "10164639575684253223"
     }
    }
   },
   "execution_count": 266,
   "outputs": []
  },
  {
   "cell_type": "code",
   "source": [
    "def snowflake_connection():\n",
    "    return snowflake.connector.connect(\n",
    "        user=SNOWFLAKE_USER,\n",
    "        password=SNOWFLAKE_PASSWORD,\n",
    "        account=SNOWFLAKE_ACCOUNT,\n",
    "        warehouse=SNOWFLAKE_WAREHOUSE,\n",
    "        database=SNOWFLAKE_DATABASE,\n",
    "        schema=SNOWFLAKE_SCHEMA\n",
    "    )\n",
    "\n",
    "\n",
    "def upload_to_snowflake(df, table_name, target_dt):\n",
    "    if df.empty:\n",
    "        print(\"업로드할 데이터 없음\")\n",
    "        return\n",
    "    df.columns = [col.strip().upper().replace(' ', '_') for col in df.columns]\n",
    "    df['PREDICTION_TIME'] = df['PREDICTION_TIME'].dt.strftime('%Y-%m-%d %H:%M:%S')\n",
    "\n",
    "    conn = None\n",
    "    try:\n",
    "        print(f\"\\n--- Snowflake에 결과 적재 시작 ---\")\n",
    "        print(f\"대상 테이블: {table_name}\")\n",
    "        conn = snowflake_connection()\n",
    "        if conn:\n",
    "            cursor = conn.cursor()\n",
    "\n",
    "            print(f\"\\n--- DataFrame을 본 테이블로 직접 적재 ---\")\n",
    "            write_pandas(conn=conn, df=df, table_name=table_name.upper(), auto_create_table=False, overwrite=False)\n",
    "            print(f\"✅ Snowflake 테이블 적재 성공: {df.shape[0]} 행\")\n",
    "\n",
    "            cursor.close()\n",
    "        else:\n",
    "            print(\"🚨 Snowflake 연결 실패, 업로드를 건너뜁니다.\")\n",
    "    except Exception as e:\n",
    "        print(f\"🚨 Snowflake 적재 오류: {e}\")\n",
    "    finally:\n",
    "        if conn is not None:\n",
    "            conn.close()"
   ],
   "metadata": {
    "id": "0QPVtnjZap3a",
    "executionInfo": {
     "status": "ok",
     "timestamp": 1753509908994,
     "user_tz": -540,
     "elapsed": 8,
     "user": {
      "displayName": "gyungbo kim",
      "userId": "10164639575684253223"
     }
    }
   },
   "execution_count": 290,
   "outputs": []
  },
  {
   "cell_type": "code",
   "source": [
    "if __name__ == \"__main__\":\n",
    "    df = load_hourly_data(target_date, ref_time_str) # 인자 전달\n",
    "    if not df.empty:\n",
    "      df = make_feature(df)\n",
    "      predict_and_save(df)\n",
    "    else:\n",
    "      print(\"처리할 데이터가 없어 모든 과정을 건너뜁니다.\")"
   ],
   "metadata": {
    "id": "3LDb9B86avAG",
    "colab": {
     "base_uri": "https://localhost:8080/"
    },
    "executionInfo": {
     "status": "ok",
     "timestamp": 1753510174412,
     "user_tz": -540,
     "elapsed": 27224,
     "user": {
      "displayName": "gyungbo kim",
      "userId": "10164639575684253223"
     }
    },
    "outputId": "cebaef82-54cd-4692-a695-d95b1e12aa5c"
   },
   "execution_count": 293,
   "outputs": [
    {
     "output_type": "stream",
     "name": "stdout",
     "text": [
      "\n",
      "--- Snowflake에 결과 적재 시작 ---\n",
      "대상 테이블: STOCK_PREDICTION_TABLE\n",
      "\n",
      "--- DataFrame을 본 테이블로 직접 적재 ---\n"
     ]
    },
    {
     "output_type": "stream",
     "name": "stderr",
     "text": [
      "/tmp/ipython-input-290-1170639256.py:31: UserWarning: Pandas Dataframe has non-standard index of type <class 'pandas.core.indexes.base.Index'> which will not be written. Consider changing the index to pd.RangeIndex(start=0,...,step=1) or call reset_index() to keep index as column(s)\n",
      "  write_pandas(conn=conn, df=df, table_name=table_name.upper(), auto_create_table=False, overwrite=False)\n"
     ]
    },
    {
     "output_type": "stream",
     "name": "stdout",
     "text": [
      "✅ Snowflake 테이블 적재 성공: 2631 행\n"
     ]
    }
   ]
  }
 ]
}
