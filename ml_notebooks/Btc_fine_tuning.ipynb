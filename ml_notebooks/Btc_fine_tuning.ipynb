{
 "nbformat": 4,
 "nbformat_minor": 0,
 "metadata": {
  "colab": {
   "provenance": []
  },
  "kernelspec": {
   "name": "python3",
   "display_name": "Python 3"
  },
  "language_info": {
   "name": "python"
  }
 },
 "cells": [
  {
   "metadata": {
    "tags": [
     "parameters"
    ]
   },
   "cell_type": "code",
   "outputs": [],
   "execution_count": null,
   "source": [
    "# parameters\n",
    "AWS_ACCESS_KEY_ID = None\n",
    "AWS_SECRET_ACCESS_KEY = None\n",
    "target_date = None"
   ]
  },
  {
   "metadata": {},
   "cell_type": "code",
   "outputs": [],
   "execution_count": null,
   "source": [
    "import boto3\n",
    "import os\n",
    "import pandas as pd\n",
    "import numpy as np\n",
    "import io\n",
    "import json\n",
    "from datetime import datetime, timedelta\n",
    "from sklearn.ensemble import RandomForestClassifier, RandomForestRegressor\n",
    "import botocore.exceptions\n",
    "\n",
    "import lightgbm as lgb\n",
    "from sklearn.metrics import accuracy_score, confusion_matrix, mean_absolute_error\n",
    "from concurrent.futures import ThreadPoolExecutor"
   ]
  },
  {
   "cell_type": "code",
   "source": [
    "aws_access_key_id = AWS_ACCESS_KEY_ID\n",
    "aws_secret_access_key = AWS_SECRET_ACCESS_KEY\n",
    "\n",
    "s3_client = boto3.client(\n",
    "    's3',\n",
    "    aws_access_key_id=aws_access_key_id,\n",
    "    aws_secret_access_key=aws_secret_access_key,\n",
    "    region_name='us-east-1'\n",
    ")\n",
    "\n",
    "bucket_name = \"de6-team7-bucket\"\n",
    "prefix = f\"derived_btc/trade_dt={target_date}/\""
   ],
   "metadata": {
    "id": "Aw6OicPtnm6e"
   },
   "execution_count": null,
   "outputs": []
  },
  {
   "cell_type": "code",
   "source": [
    "# 포맷 확인 후 가능한 경우 포맷 맞춰 변환, 불가능하면 None 반환\n",
    "def try_convert(s, fmt=\"%Y-%m-%d %H:%M:%S\"):\n",
    "    try:\n",
    "        dt = pd.to_datetime(s, errors='raise')  # 실패하면 예외 발생\n",
    "        return dt.strftime(fmt)\n",
    "    except:\n",
    "        return pd.DataFrame()\n",
    "\n",
    "\n",
    "def load_data(target_date: str) -> pd.DataFrame:\n",
    "    response = s3_client.list_objects_v2(Bucket=bucket_name, Prefix=prefix)\n",
    "    if 'Contents' not in response:\n",
    "        print(f\"누락된 날짜: {target_date} - 데이터 없음\")\n",
    "        return pd.DataFrame()\n",
    "    files = [obj[\"Key\"] for obj in response.get(\"Contents\", []) if obj[\"Key\"].endswith(\".parquet\")]\n",
    "    if not files:\n",
    "        print(f\"Parquet 파일 없음: {target_date}\")\n",
    "        return pd.DataFrame()\n",
    "\n",
    "    df_list = []\n",
    "    for key in files:\n",
    "        s3_object = s3_client.get_object(Bucket=bucket_name, Key=key)\n",
    "        buffer = io.BytesIO(s3_object['Body'].read())\n",
    "        df_temp = pd.read_parquet(buffer)\n",
    "        df_temp = df_temp[['trade_time_min', 'market', 'avg_price', 'cum_volume', 'spread', 'ma_mid', 'bollinger_upper', 'bollinger_lower', 'rsi', 'obv', 'macd_histogram', 'trading_strength_avg', 'depth_imbalance']]\n",
    "\n",
    "        df_temp['trade_time_min'] = target_date + \" \" + df_temp['trade_time_min'].astype(str)\n",
    "        df_temp['trade_time_min'] = df_temp.apply(lambda row: try_convert(row['trade_time_min']), axis=1)\n",
    "        df_list.append(df_temp)\n",
    "\n",
    "    print(f\"{target_date} → {len(files)}개 파일 불러옴\")\n",
    "\n",
    "    return pd.concat(df_list, ignore_index=True)"
   ],
   "metadata": {
    "id": "-lFSi70LuKJ4"
   },
   "execution_count": null,
   "outputs": []
  },
  {
   "cell_type": "code",
   "source": [
    "def generate_features(df, price_change_threshold=0.002):\n",
    "    if df.empty:\n",
    "        print(\"Empty dataframe\")\n",
    "        return\n",
    "    try:\n",
    "        # --- 추가 전처리 ---\n",
    "        df.sort_values(by=['trade_time_min', 'market'], inplace=True)\n",
    "        df['market'] = df['market'].astype('category')\n",
    "        df['bollinger_width'] = df['bollinger_upper'] - df['bollinger_lower']\n",
    "        df.drop(columns=['bollinger_upper', 'bollinger_lower'], axis=1, inplace=True)\n",
    "        df['future_avg_price'] = (\n",
    "            df.groupby('market')['avg_price'].transform(lambda x: x.rolling(window=60, min_periods=60).mean().shift(-59))\n",
    "        )\n",
    "        df['future_return'] = (df['future_avg_price'] - df['avg_price']) / df['avg_price']\n",
    "        df['target_direction'] = np.select(\n",
    "            [df['future_return'] > price_change_threshold,\n",
    "            df['future_return'] < -price_change_threshold],\n",
    "            [2, 0], default=1\n",
    "        )\n",
    "        df.dropna(subset=['future_avg_price', 'future_return'], inplace=True)\n",
    "        if df.empty:\n",
    "            print(\"Empty dataframe\")\n",
    "            return\n",
    "        return df\n",
    "    except Exception as e:\n",
    "        print(e)\n",
    "        return pd.DataFrame()"
   ],
   "metadata": {
    "id": "sD3SWBLXuKHD"
   },
   "execution_count": null,
   "outputs": []
  },
  {
   "cell_type": "code",
   "source": [
    "def check_booster_exists(bucket_name: str, s3_key: str) -> bool:\n",
    "    try:\n",
    "        s3_client.head_object(Bucket=bucket_name, Key=s3_key)\n",
    "        return True  # 파일이 존재함\n",
    "    except botocore.exceptions.ClientError as e:\n",
    "        if e.response['Error']['Code'] == '404':\n",
    "            return False  # 파일이 존재하지 않음\n",
    "        else:\n",
    "            raise  # 다른 예외는 그대로 raise"
   ],
   "metadata": {
    "id": "JaLgY_x0xD5Z"
   },
   "execution_count": null,
   "outputs": []
  },
  {
   "cell_type": "code",
   "source": [
    "def load_booster(model_type='clf'):\n",
    "    try:\n",
    "        model_path = \"/tmp/\"\n",
    "        if model_type == 'reg':\n",
    "            booster_name = \"btc_reg_booster.txt\"\n",
    "            params_name = \"btc_reg_params.json\"\n",
    "        else:\n",
    "            booster_name = \"btc_clf_booster.txt\"\n",
    "            params_name = \"btc_clf_params.json\"\n",
    "\n",
    "        s3_booster_key = f'models/{booster_name}'\n",
    "        s3_params_key = f'models/{params_name}'\n",
    "\n",
    "        if check_booster_exists(bucket_name, s3_booster_key):\n",
    "            s3_client.download_file(bucket_name, s3_booster_key, model_path+booster_name)  # booster download\n",
    "            s3_client.download_file(bucket_name, s3_params_key, model_path+params_name)  # params download\n",
    "            booster = lgb.Booster(model_file=model_path+booster_name)\n",
    "            with open(model_path+params_name, 'r') as f:\n",
    "                params = json.load(f)\n",
    "        else:\n",
    "            raise\n",
    "        return booster, params\n",
    "    except Exception as e:\n",
    "        raise"
   ],
   "metadata": {
    "id": "IfDYyFChp7cJ"
   },
   "execution_count": null,
   "outputs": []
  },
  {
   "cell_type": "code",
   "source": [
    "def save_booster(booster, params, booster_type='clf'):\n",
    "    try:\n",
    "        model_path = \"/tmp/\"\n",
    "        if booster_type == 'reg':\n",
    "            booster_name = \"btc_reg_booster.txt\"\n",
    "            params_name = \"btc_reg_params.json\"\n",
    "        else:\n",
    "            booster_name = \"btc_clf_booster.txt\"\n",
    "            params_name = \"btc_clf_params.json\"\n",
    "\n",
    "        s3_booster_key = f'models/{booster_name}'\n",
    "        s3_params_key = f'models/{params_name}'\n",
    "\n",
    "        booster.save_model(model_path+booster_name)\n",
    "        with open(model_path + params_name, 'w') as f:\n",
    "            json.dump(params, f)\n",
    "\n",
    "        # 업로드 수행\n",
    "        s3_client.upload_file(model_path+booster_name, bucket_name, s3_booster_key)\n",
    "        print(f\"업로드 완료: s3://{bucket_name}/{s3_booster_key}\")\n",
    "        s3_client.upload_file(model_path+params_name, bucket_name, s3_params_key)\n",
    "        print(f\"업로드 완료: s3://{bucket_name}/{s3_params_key}\")\n",
    "    except Exception as e:\n",
    "        raise"
   ],
   "metadata": {
    "id": "dOGSd7Jio7XK"
   },
   "execution_count": null,
   "outputs": []
  },
  {
   "cell_type": "code",
   "source": [
    "def train_and_save_models(df: pd.DataFrame):\n",
    "    if df.empty:\n",
    "        print(\"Empty dataframe\")\n",
    "        return\n",
    "    print(\"\\n--- ML 모델 학습 및 예측 시작 ---\")\n",
    "    try:\n",
    "        feature_cols = df.columns.difference(['trade_time_min', 'future_return', 'future_avg_price', 'target_direction'])\n",
    "\n",
    "        # --- train & save ---\n",
    "        split_idx = int(len(df) * 0.9)\n",
    "\n",
    "        clf_X, clf_y = df[feature_cols], df['target_direction']\n",
    "        clf_X_train, clf_X_test, clf_y_train, clf_y_test = clf_X[:split_idx], clf_X[split_idx:], clf_y[:split_idx], clf_y[split_idx:]\n",
    "        clf_train_data = lgb.Dataset(clf_X_train, label=clf_y_train)\n",
    "        clf_val_data = lgb.Dataset(clf_X_test, label=clf_y_test)\n",
    "\n",
    "        if len(np.unique(clf_y_train)) < 2:\n",
    "            print(\"Dataset is TOO small\")\n",
    "            return\n",
    "\n",
    "        clf_booster, clf_params = load_booster()\n",
    "        if 'metric' not in clf_params.keys():\n",
    "            clf_params['metric'] = 'multi_logloss'\n",
    "        clf_booster = lgb.train(clf_params, train_set=clf_train_data, valid_sets=[clf_val_data], init_model=clf_booster, num_boost_round=100, callbacks=[lgb.early_stopping(stopping_rounds=10)])\n",
    "\n",
    "        reg_X, reg_y = df[feature_cols], df['future_avg_price']\n",
    "        reg_X_train, reg_X_test, reg_y_train, reg_y_test = reg_X[:split_idx], reg_X[split_idx:], reg_y[:split_idx], reg_y[split_idx:]\n",
    "        reg_train_data = lgb.Dataset(reg_X_train, label=reg_y_train)\n",
    "        reg_val_data = lgb.Dataset(reg_X_test, label=reg_y_test)\n",
    "\n",
    "        reg_booster, reg_params = load_booster('reg')\n",
    "        if 'metric' not in reg_params.keys():\n",
    "            reg_params['metric'] = 'mae'\n",
    "        reg_booster = lgb.train(reg_params, train_set=reg_train_data, valid_sets=[reg_val_data], init_model=reg_booster, num_boost_round=100, callbacks=[lgb.early_stopping(stopping_rounds=10)])\n",
    "\n",
    "        reg_predictions = reg_booster.predict(reg_X_test)\n",
    "        clf_predictions = clf_booster.predict(clf_X_test)\n",
    "        clf_predictions = np.argmax(clf_predictions, axis=1)\n",
    "        mae = mean_absolute_error(reg_y_test, reg_predictions)\n",
    "        accuracy = accuracy_score(clf_y_test, clf_predictions)\n",
    "        display(confusion_matrix(clf_y_test, clf_predictions))\n",
    "        print(f\"정확도: {accuracy:.4f}\")\n",
    "        print(f\"MAE: {mae:.4f}\")\n",
    "        print(\"학습 및 예측 완료\")\n",
    "\n",
    "        save_booster(clf_booster, clf_params)\n",
    "        save_booster(reg_booster, reg_params, 'reg')\n",
    "        return\n",
    "    except:\n",
    "        raise"
   ],
   "metadata": {
    "id": "SJQwKmiHuKEj"
   },
   "execution_count": null,
   "outputs": []
  },
  {
   "cell_type": "code",
   "source": [
    "if __name__ == \"__main__\":\n",
    "    raw = load_data(target_date)\n",
    "    data = generate_features(raw)\n",
    "    train_and_save_models(data)"
   ],
   "metadata": {
    "id": "G0ZVyR3NuKB_"
   },
   "execution_count": null,
   "outputs": []
  }
 ]
}
